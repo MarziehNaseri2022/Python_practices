{
 "cells": [
  {
   "cell_type": "markdown",
   "id": "9df706bd",
   "metadata": {},
   "source": [
    "Top 10 Python Projects for Beginners"
   ]
  },
  {
   "cell_type": "markdown",
   "id": "716b09b0",
   "metadata": {},
   "source": [
    "1.Email Slicer"
   ]
  },
  {
   "cell_type": "code",
   "execution_count": 95,
   "id": "d71dce32",
   "metadata": {},
   "outputs": [],
   "source": [
    "# answer=str(input(\"write your email : \"))"
   ]
  },
  {
   "cell_type": "code",
   "execution_count": 96,
   "id": "eb92bc0a",
   "metadata": {},
   "outputs": [],
   "source": [
    "# output=answer.split(\"@\")\n",
    "# print (f\"your username '{output[0]}' and your domain is '{output[1]}'\")"
   ]
  },
  {
   "cell_type": "markdown",
   "id": "3db62b55",
   "metadata": {},
   "source": [
    "guid_book"
   ]
  },
  {
   "cell_type": "code",
   "execution_count": 97,
   "id": "dd11fb2d",
   "metadata": {},
   "outputs": [],
   "source": [
    "# your_email = input(\"Enter Your Email: \").strip()"
   ]
  },
  {
   "cell_type": "code",
   "execution_count": 98,
   "id": "b0baebf4",
   "metadata": {},
   "outputs": [],
   "source": [
    "# username = your_email[:your_email.index('@')]\n",
    "# domain = your_email[your_email.index('@') + 1:]\n",
    "\n",
    "# print(f\"Your username is {username} & domain is {domain}\")"
   ]
  },
  {
   "cell_type": "markdown",
   "id": "f39a28e1",
   "metadata": {},
   "source": [
    "2.Number to Words"
   ]
  },
  {
   "cell_type": "code",
   "execution_count": 99,
   "id": "96e8b48f",
   "metadata": {},
   "outputs": [],
   "source": [
    "import num2words as n2w\n",
    "from tkinter import *\n",
    "from PIL import Image, ImageTk"
   ]
  },
  {
   "cell_type": "code",
   "execution_count": 100,
   "id": "0f481b24",
   "metadata": {},
   "outputs": [],
   "source": [
    "def num_to_words():\n",
    "    given_num = float(num.get())\n",
    "    num_in_word = n2w.num2words(given_num)\n",
    "    display.config(text=str(num_in_word).capitalize())"
   ]
  },
  {
   "cell_type": "code",
   "execution_count": 101,
   "id": "9d25e87e",
   "metadata": {},
   "outputs": [
    {
     "data": {
      "text/plain": [
       "''"
      ]
     },
     "execution_count": 101,
     "metadata": {},
     "output_type": "execute_result"
    }
   ],
   "source": [
    "root = Tk()\n",
    "root.title(\"Numbers to Words\")\n",
    "root.geometry(\"650x400\")"
   ]
  },
  {
   "cell_type": "code",
   "execution_count": 102,
   "id": "146df1ef",
   "metadata": {},
   "outputs": [],
   "source": [
    "num = StringVar()"
   ]
  },
  {
   "cell_type": "code",
   "execution_count": 103,
   "id": "ccacf587",
   "metadata": {},
   "outputs": [],
   "source": [
    "#title\n",
    "title = Label(root, text=\"Number to Words converter\",\n",
    "               fg=\"Blue\", font=(\"Arial\", 20, 'bold')).place(x=220, y=10)\n",
    "\n",
    "# Options\n",
    "formats_lable = Label(root, text=\"Formats supported :  \",\n",
    "               fg=\"green\", font=(\"Arial\", 10, 'bold')).place(x=100, y=70)\n",
    "pos_format_lable = Label(root, text=\"1. Positives :  \",\n",
    "               fg=\"green\", font=(\"Arial\", 10, 'bold')).place(x=200, y=90)\n",
    "neg_format_lable = Label(root, text=\"2. Negatives \",\n",
    "               fg=\"green\", font=(\"Arial\", 10, 'bold')).place(x=200, y=110)\n",
    "float_format_lable = Label(root, text=\"3. Zeros  \",\n",
    "               fg=\"green\", font=(\"Arial\", 10, 'bold')).place(x=200, y=130)\n",
    "zero_format_lable = Label(root, text=\"4. Floating points/decimals/fractions  \",\n",
    "               fg=\"green\", font=(\"Arial\", 10, 'bold')).place(x=200, y=150)\n",
    "\n"
   ]
  },
  {
   "cell_type": "code",
   "execution_count": 104,
   "id": "b6405042",
   "metadata": {},
   "outputs": [],
   "source": [
    "\n",
    "num_entry_lable = Label(root, text=\"Enter a number :\",\n",
    "               fg=\"Blue\", font=(\"Arial\", 15, 'bold')).place(x=50, y=200)\n",
    "num_entry = Entry(root,textvariable=num,width=30).place(x=220, y=200)\n",
    "\n"
   ]
  },
  {
   "cell_type": "code",
   "execution_count": 105,
   "id": "65f90ebc",
   "metadata": {},
   "outputs": [],
   "source": [
    "\n",
    "btn = Button(master=root, text=\"calculate\",fg=\"green\", font=(\"Arial\", 10, 'bold')\n",
    "             ,command=num_to_words).place(x=280,y=230)\n",
    "\n"
   ]
  },
  {
   "cell_type": "code",
   "execution_count": 106,
   "id": "2b4ffa8b",
   "metadata": {},
   "outputs": [],
   "source": [
    "display = Label(root, text=\"\",fg=\"black\", font=(\"Arial\", 10, 'bold'))\n",
    "display.place(x=10, y=300)\n"
   ]
  },
  {
   "cell_type": "code",
   "execution_count": 107,
   "id": "da3d1149",
   "metadata": {},
   "outputs": [],
   "source": [
    "photo = PhotoImage(file = \"image/number.png\")\n",
    "root.iconphoto(False, photo)\n",
    "root.mainloop()"
   ]
  }
 ],
 "metadata": {
  "kernelspec": {
   "display_name": "Python 3",
   "language": "python",
   "name": "python3"
  },
  "language_info": {
   "codemirror_mode": {
    "name": "ipython",
    "version": 3
   },
   "file_extension": ".py",
   "mimetype": "text/x-python",
   "name": "python",
   "nbconvert_exporter": "python",
   "pygments_lexer": "ipython3",
   "version": "3.13.0"
  }
 },
 "nbformat": 4,
 "nbformat_minor": 5
}
